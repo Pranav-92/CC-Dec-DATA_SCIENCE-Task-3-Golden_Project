{
 "cells": [
  {
   "cell_type": "markdown",
   "id": "5a772876",
   "metadata": {},
   "source": [
    "# Next Word Prediction "
   ]
  },
  {
   "cell_type": "code",
   "execution_count": 1,
   "id": "9a0ef994",
   "metadata": {},
   "outputs": [],
   "source": [
    "#importing library\n",
    "import numpy as np\n",
    "import matplotlib.pyplot as plt\n",
    "import pickle\n",
    "import tensorflow as tf\n",
    "from tensorflow import keras\n",
    "from tensorflow.keras.preprocessing.text import Tokenizer\n",
    "from tensorflow.keras.layers import Embedding, LSTM, Dense\n",
    "from tensorflow.keras.models import Sequential, load_model\n",
    "from tensorflow.keras.callbacks import ModelCheckpoint\n",
    "from tensorflow.keras.utils import to_categorical\n",
    "from tensorflow.keras.optimizers import Adam\n",
    "from keras.utils.vis_utils import plot_model"
   ]
  },
  {
   "cell_type": "code",
   "execution_count": 10,
   "id": "dd254b14",
   "metadata": {},
   "outputs": [
    {
     "data": {
      "text/plain": [
       "\"Project Gutenberg's The Adventures of Sherlock Holmes, by Arthur Conan Doyle This eBook is for the use of anyone anywhere at no cost and with almost no restrictions whatsoever. You may copy it, give i\""
      ]
     },
     "execution_count": 10,
     "metadata": {},
     "output_type": "execute_result"
    }
   ],
   "source": [
    "file = open(\"C:/Users/Hp/OneDrive/Desktop/Internship/LGM/1661-0.txt\", \"r\", encoding = \"utf8\")\n",
    "lines = []\n",
    "for i in file:\n",
    "    lines.append(i)\n",
    "data = \"\"\n",
    "for i in lines:\n",
    "    data = ' '. join(lines)\n",
    "data = data.replace('\\n', '').replace('\\r', '').replace('\\ufeff', '').replace('“', '').replace(\"”\", '')\n",
    "data = data.split()\n",
    "data = ' '.join(data)\n",
    "data[:200]"
   ]
  },
  {
   "cell_type": "code",
   "execution_count": 11,
   "id": "362c4ac9",
   "metadata": {},
   "outputs": [
    {
     "name": "stdout",
     "output_type": "stream",
     "text": [
      "corpus length: 573660\n"
     ]
    }
   ],
   "source": [
    "print('corpus length:', len(data))"
   ]
  },
  {
   "cell_type": "code",
   "execution_count": 12,
   "id": "80a87be0",
   "metadata": {},
   "outputs": [],
   "source": [
    "#Pre-processing\n",
    "def create_model(vocabulary_size, seq_len):\n",
    "    model = Sequential()\n",
    "    model.add(Embedding(vocabulary_size, 25, input_length=seq_len))\n",
    "    model.add(LSTM(150, return_sequences=True))\n",
    "    model.add(LSTM(150))\n",
    "    model.add(Dense(150, activation='relu'))\n",
    "    model.add(Dense(vocabulary_size, activation='softmax'))\n",
    "    model.compile(loss='categorical_crossentropy', optimizer='adam', metrics=['accuracy'])\n",
    "    model.summary()\n",
    "    return model"
   ]
  },
  {
   "cell_type": "code",
   "execution_count": 13,
   "id": "c107478e",
   "metadata": {},
   "outputs": [
    {
     "data": {
      "text/plain": [
       "[142, 4680, 1, 986, 5, 125, 33, 46, 556, 2164]"
      ]
     },
     "execution_count": 13,
     "metadata": {},
     "output_type": "execute_result"
    }
   ],
   "source": [
    "tokenizer = Tokenizer()\n",
    "tokenizer.fit_on_texts([data])\n",
    "pickle.dump(tokenizer, open('tokenizer1.pkl', 'wb'))\n",
    "sequence_data = tokenizer.texts_to_sequences([data])[0]\n",
    "sequence_data[:10]"
   ]
  },
  {
   "cell_type": "code",
   "execution_count": 14,
   "id": "305034e3",
   "metadata": {},
   "outputs": [
    {
     "data": {
      "text/plain": [
       "108958"
      ]
     },
     "execution_count": 14,
     "metadata": {},
     "output_type": "execute_result"
    }
   ],
   "source": [
    "len(sequence_data)"
   ]
  },
  {
   "cell_type": "code",
   "execution_count": 15,
   "id": "f18a6e4d",
   "metadata": {},
   "outputs": [
    {
     "data": {
      "text/plain": [
       "8624"
      ]
     },
     "execution_count": 15,
     "metadata": {},
     "output_type": "execute_result"
    }
   ],
   "source": [
    "vocab_size = len(tokenizer.word_index) + 1\n",
    "vocab_size"
   ]
  },
  {
   "cell_type": "code",
   "execution_count": 16,
   "id": "a65dd66e",
   "metadata": {},
   "outputs": [
    {
     "name": "stdout",
     "output_type": "stream",
     "text": [
      "The length of sequences : 108955\n"
     ]
    },
    {
     "data": {
      "text/plain": [
       "array([[ 142, 4680,    1,  986],\n",
       "       [4680,    1,  986,    5],\n",
       "       [   1,  986,    5,  125],\n",
       "       [ 986,    5,  125,   33],\n",
       "       [   5,  125,   33,   46],\n",
       "       [ 125,   33,   46,  556],\n",
       "       [  33,   46,  556, 2164],\n",
       "       [  46,  556, 2164, 2165],\n",
       "       [ 556, 2164, 2165,   27],\n",
       "       [2164, 2165,   27,  987]])"
      ]
     },
     "execution_count": 16,
     "metadata": {},
     "output_type": "execute_result"
    }
   ],
   "source": [
    "sequences = []\n",
    "for i in range(3, len(sequence_data)):\n",
    "    words = sequence_data[i-3:i+1]\n",
    "    sequences.append(words)    \n",
    "print(\"The length of sequences :\", len(sequences))\n",
    "sequences = np.array(sequences)\n",
    "sequences[:10]"
   ]
  },
  {
   "cell_type": "code",
   "execution_count": 17,
   "id": "40a1e19a",
   "metadata": {},
   "outputs": [],
   "source": [
    "# Traing & Testing\n",
    "X = []\n",
    "y = []\n",
    "for i in sequences:\n",
    "    X.append(i[0:3])\n",
    "    y.append(i[3])\n",
    "X = np.array(X)\n",
    "y = np.array(y)"
   ]
  },
  {
   "cell_type": "code",
   "execution_count": 18,
   "id": "32d8d1dc",
   "metadata": {},
   "outputs": [
    {
     "name": "stdout",
     "output_type": "stream",
     "text": [
      "Data :\n",
      " [[ 142 4680    1]\n",
      " [4680    1  986]\n",
      " [   1  986    5]\n",
      " [ 986    5  125]\n",
      " [   5  125   33]\n",
      " [ 125   33   46]\n",
      " [  33   46  556]\n",
      " [  46  556 2164]\n",
      " [ 556 2164 2165]\n",
      " [2164 2165   27]]\n",
      "\n",
      "Response :\n",
      " [ 986    5  125   33   46  556 2164 2165   27  987]\n"
     ]
    }
   ],
   "source": [
    "print(\"Data :\\n\", X[:10])\n",
    "print()\n",
    "print(\"Response :\\n\", y[:10])"
   ]
  },
  {
   "cell_type": "code",
   "execution_count": 19,
   "id": "21f74834",
   "metadata": {},
   "outputs": [
    {
     "data": {
      "text/plain": [
       "array([[0., 0., 0., ..., 0., 0., 0.],\n",
       "       [0., 0., 0., ..., 0., 0., 0.],\n",
       "       [0., 0., 0., ..., 0., 0., 0.],\n",
       "       ...,\n",
       "       [0., 0., 0., ..., 0., 0., 0.],\n",
       "       [0., 0., 0., ..., 0., 0., 0.],\n",
       "       [0., 0., 0., ..., 0., 0., 0.]], dtype=float32)"
      ]
     },
     "execution_count": 19,
     "metadata": {},
     "output_type": "execute_result"
    }
   ],
   "source": [
    "y = to_categorical(y, num_classes=vocab_size)\n",
    "y[:10]"
   ]
  },
  {
   "cell_type": "code",
   "execution_count": 20,
   "id": "60ed75e0",
   "metadata": {},
   "outputs": [],
   "source": [
    "#LSTM(Long Short-Trem Memory)\n",
    "model = Sequential()\n",
    "model.add(Embedding(vocab_size, 10, input_length=3))\n",
    "model.add(LSTM(150, return_sequences=True))\n",
    "model.add(LSTM(150))\n",
    "model.add(Dense(150, activation=\"relu\"))\n",
    "model.add(Dense(vocab_size, activation=\"softmax\"))"
   ]
  },
  {
   "cell_type": "code",
   "execution_count": 21,
   "id": "e40989f0",
   "metadata": {},
   "outputs": [
    {
     "name": "stdout",
     "output_type": "stream",
     "text": [
      "Model: \"sequential\"\n",
      "_________________________________________________________________\n",
      " Layer (type)                Output Shape              Param #   \n",
      "=================================================================\n",
      " embedding (Embedding)       (None, 3, 10)             86240     \n",
      "                                                                 \n",
      " lstm (LSTM)                 (None, 3, 150)            96600     \n",
      "                                                                 \n",
      " lstm_1 (LSTM)               (None, 150)               180600    \n",
      "                                                                 \n",
      " dense (Dense)               (None, 150)               22650     \n",
      "                                                                 \n",
      " dense_1 (Dense)             (None, 8624)              1302224   \n",
      "                                                                 \n",
      "=================================================================\n",
      "Total params: 1,688,314\n",
      "Trainable params: 1,688,314\n",
      "Non-trainable params: 0\n",
      "_________________________________________________________________\n"
     ]
    }
   ],
   "source": [
    "model.summary()"
   ]
  },
  {
   "cell_type": "code",
   "execution_count": 22,
   "id": "d366fdf4",
   "metadata": {
    "scrolled": true
   },
   "outputs": [
    {
     "name": "stdout",
     "output_type": "stream",
     "text": [
      "Epoch 1/15\n",
      "171/171 [==============================] - ETA: 0s - loss: 6.7301\n",
      "Epoch 1: loss improved from inf to 6.73006, saving model to nextword1.h5\n",
      "171/171 [==============================] - 43s 220ms/step - loss: 6.7301 - val_loss: 6.6311\n",
      "Epoch 2/15\n",
      "171/171 [==============================] - ETA: 0s - loss: 6.1500\n",
      "Epoch 2: loss improved from 6.73006 to 6.15002, saving model to nextword1.h5\n",
      "171/171 [==============================] - 39s 227ms/step - loss: 6.1500 - val_loss: 6.3469\n",
      "Epoch 3/15\n",
      "171/171 [==============================] - ETA: 0s - loss: 5.7089\n",
      "Epoch 3: loss improved from 6.15002 to 5.70888, saving model to nextword1.h5\n",
      "171/171 [==============================] - 38s 221ms/step - loss: 5.7089 - val_loss: 6.2600\n",
      "Epoch 4/15\n",
      "171/171 [==============================] - ETA: 0s - loss: 5.4194\n",
      "Epoch 4: loss improved from 5.70888 to 5.41939, saving model to nextword1.h5\n",
      "171/171 [==============================] - 39s 228ms/step - loss: 5.4194 - val_loss: 6.2840\n",
      "Epoch 5/15\n",
      "171/171 [==============================] - ETA: 0s - loss: 5.1857\n",
      "Epoch 5: loss improved from 5.41939 to 5.18568, saving model to nextword1.h5\n",
      "171/171 [==============================] - 36s 210ms/step - loss: 5.1857 - val_loss: 6.3209\n",
      "Epoch 6/15\n",
      "171/171 [==============================] - ETA: 0s - loss: 4.9859\n",
      "Epoch 6: loss improved from 5.18568 to 4.98587, saving model to nextword1.h5\n",
      "171/171 [==============================] - 38s 224ms/step - loss: 4.9859 - val_loss: 6.3809\n",
      "Epoch 7/15\n",
      "171/171 [==============================] - ETA: 0s - loss: 4.8006\n",
      "Epoch 7: loss improved from 4.98587 to 4.80064, saving model to nextword1.h5\n",
      "171/171 [==============================] - 39s 226ms/step - loss: 4.8006 - val_loss: 6.5699\n",
      "Epoch 8/15\n",
      "171/171 [==============================] - ETA: 0s - loss: 4.6118\n",
      "Epoch 8: loss improved from 4.80064 to 4.61180, saving model to nextword1.h5\n",
      "171/171 [==============================] - 39s 225ms/step - loss: 4.6118 - val_loss: 6.6984\n",
      "Epoch 9/15\n",
      "171/171 [==============================] - ETA: 0s - loss: 4.4216\n",
      "Epoch 9: loss improved from 4.61180 to 4.42163, saving model to nextword1.h5\n",
      "171/171 [==============================] - 37s 216ms/step - loss: 4.4216 - val_loss: 7.0571\n",
      "Epoch 10/15\n",
      "171/171 [==============================] - ETA: 0s - loss: 4.2282\n",
      "Epoch 10: loss improved from 4.42163 to 4.22824, saving model to nextword1.h5\n",
      "171/171 [==============================] - 39s 228ms/step - loss: 4.2282 - val_loss: 7.2682\n",
      "Epoch 11/15\n",
      "171/171 [==============================] - ETA: 0s - loss: 4.0331\n",
      "Epoch 11: loss improved from 4.22824 to 4.03314, saving model to nextword1.h5\n",
      "171/171 [==============================] - 38s 221ms/step - loss: 4.0331 - val_loss: 7.4679\n",
      "Epoch 12/15\n",
      "171/171 [==============================] - ETA: 0s - loss: 3.8382\n",
      "Epoch 12: loss improved from 4.03314 to 3.83820, saving model to nextword1.h5\n",
      "171/171 [==============================] - 38s 222ms/step - loss: 3.8382 - val_loss: 7.7982\n",
      "Epoch 13/15\n",
      "171/171 [==============================] - ETA: 0s - loss: 3.6508\n",
      "Epoch 13: loss improved from 3.83820 to 3.65081, saving model to nextword1.h5\n",
      "171/171 [==============================] - 39s 229ms/step - loss: 3.6508 - val_loss: 8.2168\n",
      "Epoch 14/15\n",
      "171/171 [==============================] - ETA: 0s - loss: 3.4673\n",
      "Epoch 14: loss improved from 3.65081 to 3.46734, saving model to nextword1.h5\n",
      "171/171 [==============================] - 40s 235ms/step - loss: 3.4673 - val_loss: 8.4982\n",
      "Epoch 15/15\n",
      "171/171 [==============================] - ETA: 0s - loss: 3.2865\n",
      "Epoch 15: loss improved from 3.46734 to 3.28647, saving model to nextword1.h5\n",
      "171/171 [==============================] - 39s 228ms/step - loss: 3.2865 - val_loss: 8.8939\n"
     ]
    }
   ],
   "source": [
    "# Fit Modeling\n",
    "checkpoint = ModelCheckpoint(\"nextword1.h5\", monitor='loss', verbose=1, save_best_only=True)\n",
    "model.compile(loss=\"categorical_crossentropy\", optimizer=Adam(learning_rate=0.01))\n",
    "lstm = model.fit(X, y, validation_split=.20, epochs=15, batch_size=512, shuffle=True, callbacks=[checkpoint]).history"
   ]
  },
  {
   "cell_type": "code",
   "execution_count": 23,
   "id": "317208b6",
   "metadata": {},
   "outputs": [
    {
     "data": {
      "text/plain": [
       "<matplotlib.legend.Legend at 0x22e805508e0>"
      ]
     },
     "execution_count": 23,
     "metadata": {},
     "output_type": "execute_result"
    },
    {
     "data": {
      "image/png": "[encoded data removed]",
      "text/plain": [
       "<Figure size 640x480 with 1 Axes>"
      ]
     },
     "metadata": {},
     "output_type": "display_data"
    }
   ],
   "source": [
    "plt.plot(lstm['loss'])\n",
    "plt.plot(lstm['val_loss'])\n",
    "plt.title('model loss')\n",
    "plt.ylabel('loss')\n",
    "plt.xlabel('epoch')\n",
    "plt.legend(['train', 'test'], loc='upper right')"
   ]
  },
  {
   "cell_type": "code",
   "execution_count": 24,
   "id": "0f3a8cfe",
   "metadata": {},
   "outputs": [],
   "source": [
    "#Result\n",
    "model = load_model(\"nextword1.h5\")\n",
    "tokenizer = pickle.load(open(\"tokenizer1.pkl\", 'rb'))"
   ]
  },
  {
   "cell_type": "code",
   "execution_count": 25,
   "id": "060d0f1a",
   "metadata": {},
   "outputs": [],
   "source": [
    "def predict_next_words(model, tokenizer, text) :    \n",
    "    sequence = tokenizer.texts_to_sequences([text])\n",
    "    sequence = np.array(sequence)\n",
    "    preds = np.argmax(model.predict(sequence))\n",
    "    predicted_word = \"\"\n",
    "    for key, value in tokenizer.word_index.items() :\n",
    "        if value == preds :\n",
    "            predicted_word = key\n",
    "            break\n",
    "    return predicted_word"
   ]
  },
  {
   "cell_type": "code",
   "execution_count": 26,
   "id": "53cf0d64",
   "metadata": {},
   "outputs": [
    {
     "name": "stdout",
     "output_type": "stream",
     "text": [
      "Input : The Adventures of\n",
      "1/1 [==============================] - 1s 991ms/step\n",
      "Output :  The Adventures of sherlock\n",
      "\n",
      "Input : by Arthur Conan\n",
      "1/1 [==============================] - 0s 74ms/step\n",
      "Output :  by Arthur Conan doyle\n",
      "\n",
      "Input : it is all\n",
      "1/1 [==============================] - 0s 52ms/step\n",
      "Output :  it is all that\n",
      "\n",
      "\n",
      "Execution completed...\n"
     ]
    }
   ],
   "source": [
    "l = [\"The Adventures of\", \"by Arthur Conan\", \"it is all\", \"0\"]\n",
    "for i in l :\n",
    "    text = i\n",
    "    if text == \"0\" :\n",
    "        print()\n",
    "        print(\"Execution completed...\")\n",
    "        break\n",
    "    else :\n",
    "        try :\n",
    "            text = text.split(\" \")\n",
    "            text = text[-3:]\n",
    "            print(\"Input :\", i)\n",
    "            print(\"Output : \", i, predict_next_words(model, tokenizer, text))\n",
    "            print()\n",
    "        except Exception as e :\n",
    "            print(\"Error occured : \", e)\n",
    "            continue"
   ]
  }
 ],
 "metadata": {
  "kernelspec": {
   "display_name": "Python 3 (ipykernel)",
   "language": "python",
   "name": "python3"
  },
  "language_info": {
   "codemirror_mode": {
    "name": "ipython",
    "version": 3
   },
   "file_extension": ".py",
   "mimetype": "text/x-python",
   "name": "python",
   "nbconvert_exporter": "python",
   "pygments_lexer": "ipython3",
   "version": "3.9.7"
  }
 },
 "nbformat": 4,
 "nbformat_minor": 5
}
